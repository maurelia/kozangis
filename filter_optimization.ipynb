{
  "cells": [
    {
      "cell_type": "markdown",
      "metadata": {
        "id": "view-in-github",
        "colab_type": "text"
      },
      "source": [
        "<a href=\"https://colab.research.google.com/github/maurelia/kozangis/blob/master/filter_optimization.ipynb\" target=\"_parent\"><img src=\"https://colab.research.google.com/assets/colab-badge.svg\" alt=\"Open In Colab\"/></a>"
      ]
    },
    {
      "cell_type": "code",
      "execution_count": 1,
      "id": "bf731a06-639e-4313-8e68-3fab77aeee32",
      "metadata": {
        "id": "bf731a06-639e-4313-8e68-3fab77aeee32"
      },
      "outputs": [],
      "source": [
        "import seaborn as sns\n",
        "import pandas as pd\n",
        "import matplotlib.pyplot as plt\n",
        "from statsmodels.tsa.seasonal import seasonal_decompose\n",
        "from statsmodels.graphics.tsaplots import plot_acf, plot_pacf\n",
        "import numpy as np\n",
        "from sklearn.preprocessing import PolynomialFeatures\n",
        "from sklearn.linear_model import LinearRegression\n",
        "from sklearn.ensemble import GradientBoostingRegressor\n",
        "from sklearn.ensemble import RandomForestRegressor\n",
        "from sklearn.model_selection import train_test_split\n",
        "from sklearn.metrics import mean_squared_error, r2_score"
      ]
    },
    {
      "cell_type": "code",
      "execution_count": null,
      "id": "a3a52852-e506-4641-8bbb-ab2a26997c63",
      "metadata": {
        "colab": {
          "base_uri": "https://localhost:8080/",
          "height": 356
        },
        "id": "a3a52852-e506-4641-8bbb-ab2a26997c63",
        "outputId": "632cb683-f25e-4628-f265-9cfd32375a6d"
      },
      "outputs": [
        {
          "output_type": "error",
          "ename": "FileNotFoundError",
          "evalue": "[Errno 2] No such file or directory: 'data.csv'",
          "traceback": [
            "\u001b[0;31m---------------------------------------------------------------------------\u001b[0m",
            "\u001b[0;31mFileNotFoundError\u001b[0m                         Traceback (most recent call last)",
            "\u001b[0;32m<ipython-input-2-c6becea7f132>\u001b[0m in \u001b[0;36m<cell line: 0>\u001b[0;34m()\u001b[0m\n\u001b[1;32m      1\u001b[0m \u001b[0;31m# Load data\u001b[0m\u001b[0;34m\u001b[0m\u001b[0;34m\u001b[0m\u001b[0m\n\u001b[0;32m----> 2\u001b[0;31m \u001b[0mdata\u001b[0m \u001b[0;34m=\u001b[0m \u001b[0mpd\u001b[0m\u001b[0;34m.\u001b[0m\u001b[0mread_csv\u001b[0m\u001b[0;34m(\u001b[0m\u001b[0;34m\"data.csv\"\u001b[0m\u001b[0;34m)\u001b[0m\u001b[0;34m\u001b[0m\u001b[0;34m\u001b[0m\u001b[0m\n\u001b[0m\u001b[1;32m      3\u001b[0m \u001b[0;34m\u001b[0m\u001b[0m\n\u001b[1;32m      4\u001b[0m \u001b[0;31m# Convert the 'timestamp' column to datetime\u001b[0m\u001b[0;34m\u001b[0m\u001b[0;34m\u001b[0m\u001b[0m\n\u001b[1;32m      5\u001b[0m \u001b[0mdata\u001b[0m\u001b[0;34m[\u001b[0m\u001b[0;34m'DATE_TIME'\u001b[0m\u001b[0;34m]\u001b[0m \u001b[0;34m=\u001b[0m \u001b[0mpd\u001b[0m\u001b[0;34m.\u001b[0m\u001b[0mto_datetime\u001b[0m\u001b[0;34m(\u001b[0m\u001b[0mdata\u001b[0m\u001b[0;34m[\u001b[0m\u001b[0;34m'DATE_TIME'\u001b[0m\u001b[0;34m]\u001b[0m\u001b[0;34m)\u001b[0m\u001b[0;34m\u001b[0m\u001b[0;34m\u001b[0m\u001b[0m\n",
            "\u001b[0;32m/usr/local/lib/python3.11/dist-packages/pandas/io/parsers/readers.py\u001b[0m in \u001b[0;36mread_csv\u001b[0;34m(filepath_or_buffer, sep, delimiter, header, names, index_col, usecols, dtype, engine, converters, true_values, false_values, skipinitialspace, skiprows, skipfooter, nrows, na_values, keep_default_na, na_filter, verbose, skip_blank_lines, parse_dates, infer_datetime_format, keep_date_col, date_parser, date_format, dayfirst, cache_dates, iterator, chunksize, compression, thousands, decimal, lineterminator, quotechar, quoting, doublequote, escapechar, comment, encoding, encoding_errors, dialect, on_bad_lines, delim_whitespace, low_memory, memory_map, float_precision, storage_options, dtype_backend)\u001b[0m\n\u001b[1;32m   1024\u001b[0m     \u001b[0mkwds\u001b[0m\u001b[0;34m.\u001b[0m\u001b[0mupdate\u001b[0m\u001b[0;34m(\u001b[0m\u001b[0mkwds_defaults\u001b[0m\u001b[0;34m)\u001b[0m\u001b[0;34m\u001b[0m\u001b[0;34m\u001b[0m\u001b[0m\n\u001b[1;32m   1025\u001b[0m \u001b[0;34m\u001b[0m\u001b[0m\n\u001b[0;32m-> 1026\u001b[0;31m     \u001b[0;32mreturn\u001b[0m \u001b[0m_read\u001b[0m\u001b[0;34m(\u001b[0m\u001b[0mfilepath_or_buffer\u001b[0m\u001b[0;34m,\u001b[0m \u001b[0mkwds\u001b[0m\u001b[0;34m)\u001b[0m\u001b[0;34m\u001b[0m\u001b[0;34m\u001b[0m\u001b[0m\n\u001b[0m\u001b[1;32m   1027\u001b[0m \u001b[0;34m\u001b[0m\u001b[0m\n\u001b[1;32m   1028\u001b[0m \u001b[0;34m\u001b[0m\u001b[0m\n",
            "\u001b[0;32m/usr/local/lib/python3.11/dist-packages/pandas/io/parsers/readers.py\u001b[0m in \u001b[0;36m_read\u001b[0;34m(filepath_or_buffer, kwds)\u001b[0m\n\u001b[1;32m    618\u001b[0m \u001b[0;34m\u001b[0m\u001b[0m\n\u001b[1;32m    619\u001b[0m     \u001b[0;31m# Create the parser.\u001b[0m\u001b[0;34m\u001b[0m\u001b[0;34m\u001b[0m\u001b[0m\n\u001b[0;32m--> 620\u001b[0;31m     \u001b[0mparser\u001b[0m \u001b[0;34m=\u001b[0m \u001b[0mTextFileReader\u001b[0m\u001b[0;34m(\u001b[0m\u001b[0mfilepath_or_buffer\u001b[0m\u001b[0;34m,\u001b[0m \u001b[0;34m**\u001b[0m\u001b[0mkwds\u001b[0m\u001b[0;34m)\u001b[0m\u001b[0;34m\u001b[0m\u001b[0;34m\u001b[0m\u001b[0m\n\u001b[0m\u001b[1;32m    621\u001b[0m \u001b[0;34m\u001b[0m\u001b[0m\n\u001b[1;32m    622\u001b[0m     \u001b[0;32mif\u001b[0m \u001b[0mchunksize\u001b[0m \u001b[0;32mor\u001b[0m \u001b[0miterator\u001b[0m\u001b[0;34m:\u001b[0m\u001b[0;34m\u001b[0m\u001b[0;34m\u001b[0m\u001b[0m\n",
            "\u001b[0;32m/usr/local/lib/python3.11/dist-packages/pandas/io/parsers/readers.py\u001b[0m in \u001b[0;36m__init__\u001b[0;34m(self, f, engine, **kwds)\u001b[0m\n\u001b[1;32m   1618\u001b[0m \u001b[0;34m\u001b[0m\u001b[0m\n\u001b[1;32m   1619\u001b[0m         \u001b[0mself\u001b[0m\u001b[0;34m.\u001b[0m\u001b[0mhandles\u001b[0m\u001b[0;34m:\u001b[0m \u001b[0mIOHandles\u001b[0m \u001b[0;34m|\u001b[0m \u001b[0;32mNone\u001b[0m \u001b[0;34m=\u001b[0m \u001b[0;32mNone\u001b[0m\u001b[0;34m\u001b[0m\u001b[0;34m\u001b[0m\u001b[0m\n\u001b[0;32m-> 1620\u001b[0;31m         \u001b[0mself\u001b[0m\u001b[0;34m.\u001b[0m\u001b[0m_engine\u001b[0m \u001b[0;34m=\u001b[0m \u001b[0mself\u001b[0m\u001b[0;34m.\u001b[0m\u001b[0m_make_engine\u001b[0m\u001b[0;34m(\u001b[0m\u001b[0mf\u001b[0m\u001b[0;34m,\u001b[0m \u001b[0mself\u001b[0m\u001b[0;34m.\u001b[0m\u001b[0mengine\u001b[0m\u001b[0;34m)\u001b[0m\u001b[0;34m\u001b[0m\u001b[0;34m\u001b[0m\u001b[0m\n\u001b[0m\u001b[1;32m   1621\u001b[0m \u001b[0;34m\u001b[0m\u001b[0m\n\u001b[1;32m   1622\u001b[0m     \u001b[0;32mdef\u001b[0m \u001b[0mclose\u001b[0m\u001b[0;34m(\u001b[0m\u001b[0mself\u001b[0m\u001b[0;34m)\u001b[0m \u001b[0;34m->\u001b[0m \u001b[0;32mNone\u001b[0m\u001b[0;34m:\u001b[0m\u001b[0;34m\u001b[0m\u001b[0;34m\u001b[0m\u001b[0m\n",
            "\u001b[0;32m/usr/local/lib/python3.11/dist-packages/pandas/io/parsers/readers.py\u001b[0m in \u001b[0;36m_make_engine\u001b[0;34m(self, f, engine)\u001b[0m\n\u001b[1;32m   1878\u001b[0m                 \u001b[0;32mif\u001b[0m \u001b[0;34m\"b\"\u001b[0m \u001b[0;32mnot\u001b[0m \u001b[0;32min\u001b[0m \u001b[0mmode\u001b[0m\u001b[0;34m:\u001b[0m\u001b[0;34m\u001b[0m\u001b[0;34m\u001b[0m\u001b[0m\n\u001b[1;32m   1879\u001b[0m                     \u001b[0mmode\u001b[0m \u001b[0;34m+=\u001b[0m \u001b[0;34m\"b\"\u001b[0m\u001b[0;34m\u001b[0m\u001b[0;34m\u001b[0m\u001b[0m\n\u001b[0;32m-> 1880\u001b[0;31m             self.handles = get_handle(\n\u001b[0m\u001b[1;32m   1881\u001b[0m                 \u001b[0mf\u001b[0m\u001b[0;34m,\u001b[0m\u001b[0;34m\u001b[0m\u001b[0;34m\u001b[0m\u001b[0m\n\u001b[1;32m   1882\u001b[0m                 \u001b[0mmode\u001b[0m\u001b[0;34m,\u001b[0m\u001b[0;34m\u001b[0m\u001b[0;34m\u001b[0m\u001b[0m\n",
            "\u001b[0;32m/usr/local/lib/python3.11/dist-packages/pandas/io/common.py\u001b[0m in \u001b[0;36mget_handle\u001b[0;34m(path_or_buf, mode, encoding, compression, memory_map, is_text, errors, storage_options)\u001b[0m\n\u001b[1;32m    871\u001b[0m         \u001b[0;32mif\u001b[0m \u001b[0mioargs\u001b[0m\u001b[0;34m.\u001b[0m\u001b[0mencoding\u001b[0m \u001b[0;32mand\u001b[0m \u001b[0;34m\"b\"\u001b[0m \u001b[0;32mnot\u001b[0m \u001b[0;32min\u001b[0m \u001b[0mioargs\u001b[0m\u001b[0;34m.\u001b[0m\u001b[0mmode\u001b[0m\u001b[0;34m:\u001b[0m\u001b[0;34m\u001b[0m\u001b[0;34m\u001b[0m\u001b[0m\n\u001b[1;32m    872\u001b[0m             \u001b[0;31m# Encoding\u001b[0m\u001b[0;34m\u001b[0m\u001b[0;34m\u001b[0m\u001b[0m\n\u001b[0;32m--> 873\u001b[0;31m             handle = open(\n\u001b[0m\u001b[1;32m    874\u001b[0m                 \u001b[0mhandle\u001b[0m\u001b[0;34m,\u001b[0m\u001b[0;34m\u001b[0m\u001b[0;34m\u001b[0m\u001b[0m\n\u001b[1;32m    875\u001b[0m                 \u001b[0mioargs\u001b[0m\u001b[0;34m.\u001b[0m\u001b[0mmode\u001b[0m\u001b[0;34m,\u001b[0m\u001b[0;34m\u001b[0m\u001b[0;34m\u001b[0m\u001b[0m\n",
            "\u001b[0;31mFileNotFoundError\u001b[0m: [Errno 2] No such file or directory: 'data.csv'"
          ]
        }
      ],
      "source": [
        "# Load data\n",
        "data = pd.read_csv(\"data.csv\")\n",
        "\n",
        "# Convert the 'timestamp' column to datetime\n",
        "data['DATE_TIME'] = pd.to_datetime(data['DATE_TIME'])\n",
        "\n",
        "# Set 'timestamp' as the index\n",
        "data.set_index('DATE_TIME', inplace=True)\n",
        "\n",
        "# Display the first few rows\n",
        "print(data.head())\n",
        "\n",
        "data.describe()"
      ]
    },
    {
      "cell_type": "code",
      "execution_count": null,
      "id": "92665c75-c0e5-4e28-a57a-f37313223bc3",
      "metadata": {
        "scrolled": true,
        "id": "92665c75-c0e5-4e28-a57a-f37313223bc3"
      },
      "outputs": [],
      "source": [
        "# Plot time series for each variable\n",
        "plt.figure(figsize=(14, 10))\n",
        "\n",
        "# Vacuum Pressure\n",
        "plt.subplot(3, 3, 1)\n",
        "plt.plot(data['PRESV_F1'], label='Vacuum Pressure F1')\n",
        "plt.title('Vacuum Pressure F1 Over Time')\n",
        "plt.legend()\n",
        "\n",
        "plt.subplot(3, 3, 2)\n",
        "plt.plot(data['PRESV_F2'], label='Vacuum Pressure F2')\n",
        "plt.title('Vacuum Pressure F2 Over Time')\n",
        "plt.legend()\n",
        "\n",
        "plt.subplot(3, 3, 3)\n",
        "plt.plot(data['PRESV_F3'], label='Vacuum Pressure F3')\n",
        "plt.title('Vacuum Pressure F3 Over Time')\n",
        "plt.legend()\n",
        "\n",
        "plt.subplot(3, 3, 4)\n",
        "plt.plot(data['PRESV_F4'], label='Vacuum Pressure F4')\n",
        "plt.title('Vacuum Pressure F4 Over Time')\n",
        "plt.legend()\n",
        "\n",
        "\n",
        "# Solids Content\n",
        "plt.subplot(3, 3, 5)\n",
        "plt.plot(data['FEEDING_SOLIDS'], label='Solids Content', color='orange')\n",
        "plt.title('Solids Content Over Time')\n",
        "plt.legend()\n",
        "\n",
        "# Retrowashing Pressure\n",
        "plt.subplot(3, 3, 6)\n",
        "plt.plot(data['PRESRV_F1_A'], label='Retrowashing Pressure F1-A', color='green')\n",
        "plt.title('Retrowashing Pressure Over Time')\n",
        "plt.legend()\n",
        "\n",
        "# Feeding Flow Rate\n",
        "plt.subplot(3, 3, 7)\n",
        "plt.plot(data['TAIL_FLOW'], label='Feeding Flow Rate', color='red')\n",
        "plt.title('Feeding Flow Rate Over Time')\n",
        "plt.legend()\n",
        "\n",
        "# Drying Efficiency\n",
        "plt.subplot(3, 3, 8)\n",
        "plt.plot(data['DRYING_RATE'], label='Drying Efficiency', color='purple')\n",
        "plt.title('Drying Efficiency Over Time')\n",
        "plt.legend()\n",
        "\n",
        "plt.tight_layout()\n",
        "plt.show()"
      ]
    },
    {
      "cell_type": "code",
      "execution_count": null,
      "id": "196af0b2-d528-4e08-a303-1937f27881c7",
      "metadata": {
        "id": "196af0b2-d528-4e08-a303-1937f27881c7"
      },
      "outputs": [],
      "source": [
        "# Decompose drying efficiency (you can do this for other variables as well)\n",
        "decomposition = seasonal_decompose(data['DRYING_RATE'], model='additive', period=24*7)  # Adjust period as needed\n",
        "\n",
        "# Plot decomposition\n",
        "plt.figure(figsize=(12, 8))\n",
        "decomposition.plot()\n",
        "plt.suptitle('Decomposition of Drying Efficiency')\n",
        "plt.show()\n",
        "\n",
        "# Decompose drying efficiency (you can do this for other variables as well)\n",
        "decomposition = seasonal_decompose(data['FEEDING_SOLIDS'], model='additive', period=24*7)  # Adjust period as needed\n",
        "\n",
        "# Plot decomposition\n",
        "plt.figure(figsize=(12, 8))\n",
        "decomposition.plot()\n",
        "plt.suptitle('Decomposition of Feeding Solids (%)')\n",
        "plt.show()"
      ]
    },
    {
      "cell_type": "code",
      "execution_count": null,
      "id": "ec2417f1-3b84-4084-b34d-a3cca20309d5",
      "metadata": {
        "id": "ec2417f1-3b84-4084-b34d-a3cca20309d5"
      },
      "outputs": [],
      "source": [
        "# Autocorrelation Function (ACF)\n",
        "plt.figure(figsize=(12, 6))\n",
        "plot_acf(data['DRYING_RATE'], lags=96, title='Autocorrelation of Drying Efficiency')\n",
        "plt.show()\n",
        "\n",
        "# Partial Autocorrelation Function (PACF)\n",
        "plt.figure(figsize=(12, 6))\n",
        "plot_pacf(data['DRYING_RATE'], lags=96, title='Partial Autocorrelation of Drying Efficiency')\n",
        "plt.show()"
      ]
    },
    {
      "cell_type": "code",
      "execution_count": null,
      "id": "7a7ae150-3390-412f-a29e-a6e09f549f40",
      "metadata": {
        "id": "7a7ae150-3390-412f-a29e-a6e09f549f40"
      },
      "outputs": [],
      "source": [
        "# Calculate rolling mean and standard deviation for drying efficiency\n",
        "rolling_mean = data['DRYING_RATE'].rolling(window=96).mean()  # Adjust window size as needed\n",
        "rolling_std = data['DRYING_RATE'].rolling(window=96).std()\n",
        "\n",
        "# Plot rolling statistics\n",
        "plt.figure(figsize=(12, 6))\n",
        "plt.plot(data['DRYING_RATE'], label='Original')\n",
        "plt.plot(rolling_mean, label='Rolling Mean', color='red')\n",
        "plt.plot(rolling_std, label='Rolling Std', color='green')\n",
        "plt.title('Rolling Mean & Standard Deviation of Drying Efficiency')\n",
        "plt.legend()\n",
        "plt.show()\n",
        "\n",
        "# Calculate rolling mean and standard deviation for drying efficiency\n",
        "rolling_mean = data['FEEDING_SOLIDS'].rolling(window=96).mean()  # Adjust window size as needed\n",
        "rolling_std = data['FEEDING_SOLIDS'].rolling(window=96).std()\n",
        "\n",
        "# Plot rolling statistics\n",
        "plt.figure(figsize=(12, 6))\n",
        "plt.plot(data['FEEDING_SOLIDS'], label='Original')\n",
        "plt.plot(rolling_mean, label='Rolling Mean', color='red')\n",
        "plt.plot(rolling_std, label='Rolling Std', color='green')\n",
        "plt.title('Rolling Mean & Standard Deviation of Solids Content')\n",
        "plt.legend()\n",
        "plt.show()"
      ]
    },
    {
      "cell_type": "code",
      "execution_count": null,
      "id": "4dd10522-19fb-4f52-82e6-38fc52fe33ea",
      "metadata": {
        "id": "4dd10522-19fb-4f52-82e6-38fc52fe33ea"
      },
      "outputs": [],
      "source": [
        "# Cross-correlation between feeding flow rate and drying efficiency\n",
        "cross_corr = np.correlate(data['FEEDING_SOLIDS'], data['DRYING_RATE'], mode='full')\n",
        "lags = np.arange(-len(data) + 1, len(data))\n",
        "\n",
        "# Plot cross-correlation\n",
        "plt.figure(figsize=(12, 6))\n",
        "plt.plot(lags, cross_corr)\n",
        "plt.title('Cross-Correlation Between Feeding Flow Rate and Drying Efficiency')\n",
        "plt.xlabel('Lag')\n",
        "plt.ylabel('Correlation')\n",
        "plt.show()\n"
      ]
    },
    {
      "cell_type": "code",
      "execution_count": null,
      "id": "1e3247c0-cdd0-4246-8fe0-425b04b89221",
      "metadata": {
        "id": "1e3247c0-cdd0-4246-8fe0-425b04b89221"
      },
      "outputs": [],
      "source": [
        "from statsmodels.tsa.arima.model import ARIMA\n",
        "\n",
        "# Fit an ARIMA model (example)\n",
        "model = ARIMA(data['DRYING_RATE'], order=(2, 1, 0))  # Adjust order as needed\n",
        "results = model.fit()\n",
        "\n",
        "# Forecast future values\n",
        "forecast_steps = 24*28  # Number of steps to forecast\n",
        "forecast = results.forecast(steps=forecast_steps)\n",
        "\n",
        "# Plot forecast\n",
        "plt.figure(figsize=(12, 6))\n",
        "plt.plot(data['DRYING_RATE'], label='Historical')\n",
        "plt.plot(forecast, label='Forecast', color='red')\n",
        "plt.title('Drying Efficiency Forecast')\n",
        "plt.legend()\n",
        "plt.show()"
      ]
    },
    {
      "cell_type": "code",
      "execution_count": null,
      "id": "1e287ac3-cd34-4088-b7e0-be14cdd70d15",
      "metadata": {
        "id": "1e287ac3-cd34-4088-b7e0-be14cdd70d15"
      },
      "outputs": [],
      "source": [
        "# Define features (X) and target (y)\n",
        "X = data[['FEEDING_SOLIDS']]  # Independent variable\n",
        "y = data['DRYING_RATE']  # Dependent variable\n",
        "\n",
        "# Split the data into training and testing sets\n",
        "X_train, X_test, y_train, y_test = train_test_split(X, y, test_size=0.2, random_state=42)\n",
        "\n",
        "# Train a linear regression model\n",
        "model = LinearRegression()\n",
        "model.fit(X_train, y_train)\n",
        "\n",
        "# Make predictions on the test set\n",
        "y_pred = model.predict(X_test)\n",
        "\n",
        "# Evaluate the model\n",
        "mse = mean_squared_error(y_test, y_pred)\n",
        "r2 = r2_score(y_test, y_pred)\n",
        "print(f'Mean Squared Error: {mse}')\n",
        "print(f'R-squared: {r2}')\n",
        "\n",
        "# Display the model coefficients\n",
        "print(f'Intercept: {model.intercept_}')\n",
        "print(f'Coefficient for solids_content: {model.coef_[0]}')"
      ]
    },
    {
      "cell_type": "code",
      "execution_count": null,
      "id": "7775f408-47ca-41ef-bb53-8f77200968f3",
      "metadata": {
        "id": "7775f408-47ca-41ef-bb53-8f77200968f3"
      },
      "outputs": [],
      "source": [
        "# Define a range of solids content values (e.g., from current max to a higher value)\n",
        "current_max_solids = data['FEEDING_SOLIDS'].max()\n",
        "new_solids_values = np.linspace(current_max_solids, current_max_solids + 5, 100)  # Increase by 10%\n",
        "\n",
        "# Predict drying efficiency for the new solids content values\n",
        "predicted_efficiency = model.predict(new_solids_values.reshape(-1, 1))\n",
        "\n",
        "# Plot the results\n",
        "plt.figure(figsize=(8, 6))\n",
        "plt.plot(new_solids_values, predicted_efficiency, label='Predicted Drying Efficiency', color='red')\n",
        "plt.scatter(data['FEEDING_SOLIDS'], data['DRYING_RATE'], alpha=0.5, label='Actual Data')\n",
        "plt.xlabel('Solids Content (%)')\n",
        "plt.ylabel('Drying Efficiency (tons/hour)')\n",
        "plt.title('Impact of Increasing Solids Content on Drying Efficiency')\n",
        "plt.legend()\n",
        "plt.show()"
      ]
    },
    {
      "cell_type": "code",
      "execution_count": null,
      "id": "b3ea8513-087c-4eae-ba23-bf4b9604c41d",
      "metadata": {
        "id": "b3ea8513-087c-4eae-ba23-bf4b9604c41d"
      },
      "outputs": [],
      "source": [
        "# Define the increase in solids content (e.g., 5%)\n",
        "increase_in_solids = 5  # percent\n",
        "\n",
        "# Calculate the expected increase in drying efficiency\n",
        "coefficient = model.coef_[0]\n",
        "expected_increase = coefficient * increase_in_solids\n",
        "\n",
        "print(f'Expected increase in drying efficiency for a {increase_in_solids}% increase in solids content: {expected_increase:.2f} tons/hour')"
      ]
    },
    {
      "cell_type": "code",
      "execution_count": null,
      "id": "078878bc-ad70-4537-8823-b028b6b3eeb8",
      "metadata": {
        "id": "078878bc-ad70-4537-8823-b028b6b3eeb8"
      },
      "outputs": [],
      "source": [
        "# Define features (X) and target (y)\n",
        "X = data[['FEEDING_SOLIDS']]  # Independent variable\n",
        "y = data['DRYING_RATE']  # Dependent variable\n",
        "\n",
        "# Create polynomial features (e.g., degree=2 for quadratic relationship)\n",
        "degree = 2  # You can adjust the degree based on the data\n",
        "poly = PolynomialFeatures(degree=degree)\n",
        "X_poly = poly.fit_transform(X)\n",
        "\n",
        "# Split the data into training and testing sets\n",
        "X_train, X_test, y_train, y_test = train_test_split(X_poly, y, test_size=0.2, random_state=42)\n"
      ]
    },
    {
      "cell_type": "code",
      "execution_count": null,
      "id": "8be13b18-fdfe-4e7a-85bd-59ec52422ac3",
      "metadata": {
        "id": "8be13b18-fdfe-4e7a-85bd-59ec52422ac3"
      },
      "outputs": [],
      "source": [
        "# Train a linear regression model on polynomial features\n",
        "model = LinearRegression()\n",
        "model.fit(X_train, y_train)\n",
        "\n",
        "# Make predictions on the test set\n",
        "y_pred = model.predict(X_test)\n",
        "\n",
        "# Evaluate the model\n",
        "mse = mean_squared_error(y_test, y_pred)\n",
        "r2 = r2_score(y_test, y_pred)\n",
        "print(f'Mean Squared Error: {mse}')\n",
        "print(f'R-squared: {r2}')\n",
        "\n",
        "# Display the model coefficients\n",
        "print(f'Intercept: {model.intercept_}')\n",
        "print(f'Coefficients: {model.coef_}')"
      ]
    },
    {
      "cell_type": "code",
      "execution_count": null,
      "id": "59dea973-2b87-436a-949a-faddbe8bc517",
      "metadata": {
        "id": "59dea973-2b87-436a-949a-faddbe8bc517"
      },
      "outputs": [],
      "source": [
        "# Create a range of solids content values for prediction\n",
        "X_range = np.linspace(X['FEEDING_SOLIDS'].min(), X['FEEDING_SOLIDS'].max(), 100).reshape(-1, 1)\n",
        "X_range_poly = poly.transform(X_range)\n",
        "y_range_pred = model.predict(X_range_poly)\n",
        "\n",
        "# Plot the results\n",
        "plt.figure(figsize=(8, 6))\n",
        "plt.scatter(X['FEEDING_SOLIDS'], y, alpha=0.7, label='Actual Data')\n",
        "plt.plot(X_range, y_range_pred, color='red', label=f'Polynomial Regression (Degree={degree})')\n",
        "plt.xlabel('Solids Content (%)')\n",
        "plt.ylabel('Drying Efficiency (tons/hour)')\n",
        "plt.title('Polynomial Regression: Solids Content vs Drying Efficiency')\n",
        "plt.legend()\n",
        "plt.show()"
      ]
    },
    {
      "cell_type": "code",
      "execution_count": null,
      "id": "637af3aa-be67-4a82-b5c9-473fb95b449a",
      "metadata": {
        "id": "637af3aa-be67-4a82-b5c9-473fb95b449a"
      },
      "outputs": [],
      "source": [
        "# Define the increase in solids content (e.g., 5%)\n",
        "increase_in_solids = 10  # percent\n",
        "\n",
        "# Predict drying efficiency at the current max solids content\n",
        "current_max_poly = poly.transform([[current_max_solids]])\n",
        "current_efficiency = model.predict(current_max_poly)\n",
        "\n",
        "# Predict drying efficiency at the increased solids content\n",
        "new_solids = current_max_solids + increase_in_solids\n",
        "new_solids_poly = poly.transform([[new_solids]])\n",
        "new_efficiency = model.predict(new_solids_poly)\n",
        "\n",
        "# Calculate the expected increase\n",
        "expected_increase = new_efficiency[0] - current_efficiency[0]\n",
        "\n",
        "print(f'Expected increase in drying efficiency for a {increase_in_solids}% increase in solids content: {expected_increase:.2f} tons/hour')"
      ]
    },
    {
      "cell_type": "code",
      "execution_count": null,
      "id": "c3d00294-f82a-41f1-bf34-b5abf9bf0610",
      "metadata": {
        "id": "c3d00294-f82a-41f1-bf34-b5abf9bf0610"
      },
      "outputs": [],
      "source": [
        "# Define features (X) and target (y)\n",
        "X = data[['FEEDING_SOLIDS']]  # Independent variable\n",
        "y = data['DRYING_RATE']  # Dependent variable\n",
        "\n",
        "# Split the data into training and testing sets\n",
        "X_train, X_test, y_train, y_test = train_test_split(X, y, test_size=0.2, random_state=42)"
      ]
    },
    {
      "cell_type": "code",
      "execution_count": null,
      "id": "b719e6d4-99b1-49b5-bd69-d685cdb95a53",
      "metadata": {
        "id": "b719e6d4-99b1-49b5-bd69-d685cdb95a53"
      },
      "outputs": [],
      "source": [
        "# Initialize the Gradient Boosting Regressor\n",
        "model = GradientBoostingRegressor(\n",
        "    n_estimators=300,  # Number of boosting stages\n",
        "    learning_rate=0.1,  # Step size shrinkage\n",
        "    max_depth=3,  # Maximum depth of each tree\n",
        "    random_state=42\n",
        ")\n",
        "\n",
        "# Train the model\n",
        "model.fit(X_train, y_train)\n",
        "\n",
        "# Make predictions on the test set\n",
        "y_pred = model.predict(X_test)\n",
        "\n",
        "# Evaluate the model\n",
        "mse = mean_squared_error(y_test, y_pred)\n",
        "r2 = r2_score(y_test, y_pred)\n",
        "print(f'Mean Squared Error: {mse}')\n",
        "print(f'R-squared: {r2}')"
      ]
    },
    {
      "cell_type": "code",
      "execution_count": null,
      "id": "b4f34b78-010c-441a-833a-a9b262dcef6d",
      "metadata": {
        "id": "b4f34b78-010c-441a-833a-a9b262dcef6d"
      },
      "outputs": [],
      "source": [
        "# Create a range of solids content values for prediction\n",
        "X_range = np.linspace(X['FEEDING_SOLIDS'].min(), X['FEEDING_SOLIDS'].max(), 100).reshape(-1, 1)\n",
        "y_range_pred = model.predict(X_range)\n",
        "\n",
        "# Plot the results\n",
        "plt.figure(figsize=(8, 6))\n",
        "plt.scatter(X['FEEDING_SOLIDS'], y, alpha=0.7, label='Actual Data')\n",
        "plt.plot(X_range, y_range_pred, color='red', label='Gradient Boosting Predictions')\n",
        "plt.xlabel('Solids Content (%)')\n",
        "plt.ylabel('Drying Efficiency (tons/hour)')\n",
        "plt.title('Gradient Boosting: Solids Content vs Drying Efficiency')\n",
        "plt.legend()\n",
        "plt.show()"
      ]
    },
    {
      "cell_type": "code",
      "execution_count": null,
      "id": "74d5c8c6-73ca-48eb-b723-af6c4bf3e770",
      "metadata": {
        "id": "74d5c8c6-73ca-48eb-b723-af6c4bf3e770"
      },
      "outputs": [],
      "source": [
        "# Define a range of solids content values (e.g., from current max to a higher value)\n",
        "current_max_solids = X['FEEDING_SOLIDS'].max()\n",
        "new_solids_values = np.linspace(current_max_solids, current_max_solids + 10, 100)  # Increase by 10%\n",
        "\n",
        "# Predict drying efficiency for the new solids content values\n",
        "predicted_efficiency = model.predict(new_solids_values.reshape(-1, 1))\n",
        "\n",
        "# Plot the results\n",
        "plt.figure(figsize=(8, 6))\n",
        "plt.plot(new_solids_values, predicted_efficiency, label='Predicted Drying Efficiency', color='red')\n",
        "plt.scatter(X['FEEDING_SOLIDS'], y, alpha=0.5, label='Actual Data')\n",
        "plt.xlabel('Solids Content (%)')\n",
        "plt.ylabel('Drying Efficiency (tons/hour)')\n",
        "plt.title('Impact of Increasing Solids Content on Drying Efficiency')\n",
        "plt.legend()\n",
        "plt.show()"
      ]
    },
    {
      "cell_type": "code",
      "execution_count": null,
      "id": "d203cb2d-2d2b-4bfc-8986-a764149a8f36",
      "metadata": {
        "id": "d203cb2d-2d2b-4bfc-8986-a764149a8f36"
      },
      "outputs": [],
      "source": [
        "# Define the increase in solids content (e.g., 5%)\n",
        "increase_in_solids = 5  # percent\n",
        "\n",
        "# Predict drying efficiency at the current max solids content\n",
        "current_efficiency = model.predict([[current_max_solids]])\n",
        "\n",
        "# Predict drying efficiency at the increased solids content\n",
        "new_solids = current_max_solids + increase_in_solids\n",
        "new_efficiency = model.predict([[new_solids]])\n",
        "\n",
        "# Calculate the expected increase\n",
        "expected_increase = new_efficiency[0] - current_efficiency[0]\n",
        "\n",
        "print(f'Expected increase in drying efficiency for a {increase_in_solids}% increase in solids content: {expected_increase:.2f} tons/hour')\n"
      ]
    },
    {
      "cell_type": "code",
      "execution_count": null,
      "id": "8c8585af-8ddd-41b9-b531-95f96dfca028",
      "metadata": {
        "id": "8c8585af-8ddd-41b9-b531-95f96dfca028"
      },
      "outputs": [],
      "source": [
        "# Define features (X) and target (y)\n",
        "X = data[['FEEDING_SOLIDS']]  # Independent variable\n",
        "y = data['DRYING_RATE']  # Dependent variable\n",
        "\n",
        "# Split the data into training and testing sets\n",
        "X_train, X_test, y_train, y_test = train_test_split(X, y, test_size=0.2, random_state=42)"
      ]
    },
    {
      "cell_type": "code",
      "execution_count": null,
      "id": "3243602c-7420-410e-b5ca-a0fd61440f7a",
      "metadata": {
        "id": "3243602c-7420-410e-b5ca-a0fd61440f7a"
      },
      "outputs": [],
      "source": [
        "# Initialize the Random Forest Regressor\n",
        "model = RandomForestRegressor(\n",
        "    n_estimators=200,  # Number of trees in the forest\n",
        "    max_depth=None,    # Maximum depth of each tree (None means no limit)\n",
        "    min_samples_split=2,  # Minimum number of samples required to split a node\n",
        "    random_state=42\n",
        ")\n",
        "\n",
        "# Train the model\n",
        "model.fit(X_train, y_train)\n",
        "\n",
        "# Make predictions on the test set\n",
        "y_pred = model.predict(X_test)\n",
        "\n",
        "# Evaluate the model\n",
        "mse = mean_squared_error(y_test, y_pred)\n",
        "r2 = r2_score(y_test, y_pred)\n",
        "print(f'Mean Squared Error: {mse}')\n",
        "print(f'R-squared: {r2}')"
      ]
    },
    {
      "cell_type": "code",
      "execution_count": null,
      "id": "09dc8a29-0715-427b-b509-85981661ec4b",
      "metadata": {
        "id": "09dc8a29-0715-427b-b509-85981661ec4b"
      },
      "outputs": [],
      "source": [
        "# Create a range of solids content values for prediction\n",
        "X_range = np.linspace(X['FEEDING_SOLIDS'].min(), X['FEEDING_SOLIDS'].max(), 100).reshape(-1, 1)\n",
        "y_range_pred = model.predict(X_range)\n",
        "\n",
        "# Plot the results\n",
        "plt.figure(figsize=(8, 6))\n",
        "plt.scatter(X['FEEDING_SOLIDS'], y, alpha=0.7, label='Actual Data')\n",
        "plt.plot(X_range, y_range_pred, color='red', label='Random Forest Predictions')\n",
        "plt.xlabel('Solids Content (%)')\n",
        "plt.ylabel('Drying Efficiency (tons/hour)')\n",
        "plt.title('Random Forest: Solids Content vs Drying Efficiency')\n",
        "plt.legend()\n",
        "plt.show()"
      ]
    },
    {
      "cell_type": "code",
      "execution_count": null,
      "id": "ae510c05-7189-4b3b-bcf4-7aefaf1f46fd",
      "metadata": {
        "id": "ae510c05-7189-4b3b-bcf4-7aefaf1f46fd"
      },
      "outputs": [],
      "source": [
        "# Define a range of solids content values (e.g., from current max to a higher value)\n",
        "current_max_solids = X['FEEDING_SOLIDS'].max()\n",
        "new_solids_values = np.linspace(current_max_solids, current_max_solids + 10, 100)  # Increase by 10%\n",
        "\n",
        "# Predict drying efficiency for the new solids content values\n",
        "predicted_efficiency = model.predict(new_solids_values.reshape(-1, 1))\n",
        "\n",
        "# Plot the results\n",
        "plt.figure(figsize=(8, 6))\n",
        "plt.plot(new_solids_values, predicted_efficiency, label='Predicted Drying Efficiency', color='red')\n",
        "plt.scatter(X['FEEDING_SOLIDS'], y, alpha=0.5, label='Actual Data')\n",
        "plt.xlabel('Solids Content (%)')\n",
        "plt.ylabel('Drying Efficiency (tons/hour)')\n",
        "plt.title('Impact of Increasing Solids Content on Drying Efficiency')\n",
        "plt.legend()\n",
        "plt.show()"
      ]
    },
    {
      "cell_type": "code",
      "execution_count": null,
      "id": "d518a20a-9fb7-4abc-a133-0687d4440467",
      "metadata": {
        "id": "d518a20a-9fb7-4abc-a133-0687d4440467"
      },
      "outputs": [],
      "source": [
        "# Define the increase in solids content (e.g., 5%)\n",
        "increase_in_solids = 5  # percent\n",
        "\n",
        "# Predict drying efficiency at the current max solids content\n",
        "current_efficiency = model.predict([[current_max_solids]])\n",
        "\n",
        "# Predict drying efficiency at the increased solids content\n",
        "new_solids = current_max_solids + increase_in_solids\n",
        "new_efficiency = model.predict([[new_solids]])\n",
        "\n",
        "# Calculate the expected increase\n",
        "expected_increase = new_efficiency[0] - current_efficiency[0]\n",
        "\n",
        "print(f'Expected increase in drying efficiency for a {increase_in_solids}% increase in solids content: {expected_increase:.2f} tons/hour')"
      ]
    },
    {
      "cell_type": "code",
      "execution_count": null,
      "id": "686afee5-34a1-4256-b4c2-c02f067a9669",
      "metadata": {
        "id": "686afee5-34a1-4256-b4c2-c02f067a9669"
      },
      "outputs": [],
      "source": [
        "from scipy.optimize import curve_fit\n"
      ]
    },
    {
      "cell_type": "code",
      "execution_count": null,
      "id": "e8e79d83-4716-4979-9028-676ae3a38c0f",
      "metadata": {
        "id": "e8e79d83-4716-4979-9028-676ae3a38c0f"
      },
      "outputs": [],
      "source": [
        "# Define the exponential function\n",
        "def exponential_func(x, a, b):\n",
        "    return a * np.exp(b * x)"
      ]
    },
    {
      "cell_type": "code",
      "execution_count": null,
      "id": "4ee720e9-9ed2-4d99-a265-15d3524a503a",
      "metadata": {
        "id": "4ee720e9-9ed2-4d99-a265-15d3524a503a"
      },
      "outputs": [],
      "source": [
        "# Extract the data\n",
        "x_data = data['FEEDING_SOLIDS']\n",
        "y_data = data['DRYING_RATE']\n",
        "\n",
        "# Fit the exponential model\n",
        "params, covariance = curve_fit(exponential_func, x_data, y_data, p0=[1, 0.1])  # p0 is the initial guess for parameters\n",
        "\n",
        "# Extract the fitted parameters\n",
        "a, b = params\n",
        "print(f'Fitted parameters: a = {a:.2f}, b = {b:.2f}')"
      ]
    },
    {
      "cell_type": "code",
      "execution_count": null,
      "id": "0ded6dcb-359d-41fa-abea-3855f2be05ee",
      "metadata": {
        "id": "0ded6dcb-359d-41fa-abea-3855f2be05ee"
      },
      "outputs": [],
      "source": [
        "# Create a range of solids content values for prediction\n",
        "x_range = np.linspace(x_data.min(), x_data.max(), 100)\n",
        "y_pred = exponential_func(x_range, a, b)\n",
        "\n",
        "# Plot the results\n",
        "plt.figure(figsize=(8, 6))\n",
        "plt.scatter(x_data, y_data, alpha=0.7, label='Datos reales')\n",
        "plt.plot(x_range, y_pred, color='red', label='Ajuste exponencial')\n",
        "plt.xlabel('Contenido de Sólidos (%)')\n",
        "plt.ylabel('Tasa de filtrado (tons/hora)')\n",
        "plt.title('Regresión Exponencial: Contenido de sólidos vs Tasa de filtrado')\n",
        "plt.legend()\n",
        "plt.savefig('exponential_regression.png')\n",
        "plt.show()"
      ]
    },
    {
      "cell_type": "code",
      "execution_count": null,
      "id": "63ef0f58-6d67-4a6a-a294-94b7ea77b93d",
      "metadata": {
        "id": "63ef0f58-6d67-4a6a-a294-94b7ea77b93d"
      },
      "outputs": [],
      "source": [
        "# Define a range of solids content values (e.g., from current max to a higher value)\n",
        "current_max_solids = x_data.max()\n",
        "new_solids_values = np.linspace(current_max_solids, current_max_solids + 10, 100)  # Increase by 10%\n",
        "\n",
        "# Predict drying efficiency for the new solids content values\n",
        "predicted_efficiency = exponential_func(new_solids_values, a, b)\n",
        "\n",
        "# Plot the results\n",
        "plt.figure(figsize=(8, 6))\n",
        "plt.plot(new_solids_values, predicted_efficiency, label='Predicción tasa de filtrado', color='red')\n",
        "plt.scatter(x_data, y_data, alpha=0.5, label='Datos reales')\n",
        "plt.xlabel('Contenido de solidos (%)')\n",
        "plt.ylabel('Tasa de filtrado (tons/hora)')\n",
        "plt.title('Impacto del contenido de solidos en la tasa de filtrado')\n",
        "plt.legend()\n",
        "plt.show()"
      ]
    },
    {
      "cell_type": "code",
      "execution_count": null,
      "id": "0cd4ba46-c490-4981-86fb-8a00ff89743c",
      "metadata": {
        "id": "0cd4ba46-c490-4981-86fb-8a00ff89743c"
      },
      "outputs": [],
      "source": [
        "# Define the increase in solids content (e.g., 12%)\n",
        "increase_in_solids = 15  # percent\n",
        "\n",
        "# Predict drying efficiency at the current max solids content\n",
        "current_efficiency = exponential_func(current_max_solids, a, b)\n",
        "\n",
        "# Predict drying efficiency at the increased solids content\n",
        "new_solids = current_max_solids + increase_in_solids\n",
        "new_efficiency = exponential_func(new_solids, a, b)\n",
        "\n",
        "# Calculate the expected increase\n",
        "expected_increase = new_efficiency - current_efficiency\n",
        "\n",
        "print(f'Expected increase in drying efficiency for a {increase_in_solids}% increase in solids content: {expected_increase:.2f} tons/hour')"
      ]
    },
    {
      "cell_type": "code",
      "execution_count": null,
      "id": "51c3e67b-db8b-46f6-a326-8916de5736bc",
      "metadata": {
        "id": "51c3e67b-db8b-46f6-a326-8916de5736bc"
      },
      "outputs": [],
      "source": []
    }
  ],
  "metadata": {
    "kernelspec": {
      "display_name": "Python 3 (ipykernel)",
      "language": "python",
      "name": "python3"
    },
    "language_info": {
      "codemirror_mode": {
        "name": "ipython",
        "version": 3
      },
      "file_extension": ".py",
      "mimetype": "text/x-python",
      "name": "python",
      "nbconvert_exporter": "python",
      "pygments_lexer": "ipython3",
      "version": "3.12.8"
    },
    "colab": {
      "provenance": [],
      "toc_visible": true,
      "include_colab_link": true
    }
  },
  "nbformat": 4,
  "nbformat_minor": 5
}